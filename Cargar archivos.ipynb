{
 "cells": [
  {
   "cell_type": "code",
   "execution_count": 3,
   "metadata": {
    "collapsed": true
   },
   "outputs": [],
   "source": [
    "# Importamos pandas como \"pd\" por convención\n",
    "import pandas as pd\n",
    "\n",
    "# Importanmos numpy como \"np\" por convención\n",
    "import numpy as np\n",
    "\n",
    "# Importamos matplotlib.pyplot como \"plt\" por convención\n",
    "%matplotlib inline\n",
    "import matplotlib.pyplot as plt\n"
   ]
  },
  {
   "cell_type": "code",
   "execution_count": 32,
   "metadata": {
    "collapsed": false,
    "scrolled": false
   },
   "outputs": [
    {
     "data": {
      "text/html": [
       "<div>\n",
       "<table border=\"1\" class=\"dataframe\">\n",
       "  <thead>\n",
       "    <tr style=\"text-align: right;\">\n",
       "      <th></th>\n",
       "      <th>Semana</th>\n",
       "      <th>Agencia_ID</th>\n",
       "      <th>Canal_ID</th>\n",
       "      <th>Ruta_SAK</th>\n",
       "      <th>Cliente_ID</th>\n",
       "      <th>Producto_ID</th>\n",
       "      <th>Venta_uni_hoy</th>\n",
       "      <th>Venta_hoy</th>\n",
       "      <th>Dev_uni_proxima</th>\n",
       "      <th>Dev_proxima</th>\n",
       "      <th>Demanda_uni_equil</th>\n",
       "    </tr>\n",
       "  </thead>\n",
       "  <tbody>\n",
       "    <tr>\n",
       "      <th>0</th>\n",
       "      <td>3</td>\n",
       "      <td>1110</td>\n",
       "      <td>7</td>\n",
       "      <td>3301</td>\n",
       "      <td>15766</td>\n",
       "      <td>1212</td>\n",
       "      <td>3</td>\n",
       "      <td>25.14</td>\n",
       "      <td>0</td>\n",
       "      <td>0.0</td>\n",
       "      <td>3</td>\n",
       "    </tr>\n",
       "    <tr>\n",
       "      <th>1</th>\n",
       "      <td>3</td>\n",
       "      <td>1110</td>\n",
       "      <td>7</td>\n",
       "      <td>3301</td>\n",
       "      <td>15766</td>\n",
       "      <td>1216</td>\n",
       "      <td>4</td>\n",
       "      <td>33.52</td>\n",
       "      <td>0</td>\n",
       "      <td>0.0</td>\n",
       "      <td>4</td>\n",
       "    </tr>\n",
       "    <tr>\n",
       "      <th>2</th>\n",
       "      <td>3</td>\n",
       "      <td>1110</td>\n",
       "      <td>7</td>\n",
       "      <td>3301</td>\n",
       "      <td>15766</td>\n",
       "      <td>1238</td>\n",
       "      <td>4</td>\n",
       "      <td>39.32</td>\n",
       "      <td>0</td>\n",
       "      <td>0.0</td>\n",
       "      <td>4</td>\n",
       "    </tr>\n",
       "    <tr>\n",
       "      <th>3</th>\n",
       "      <td>3</td>\n",
       "      <td>1110</td>\n",
       "      <td>7</td>\n",
       "      <td>3301</td>\n",
       "      <td>15766</td>\n",
       "      <td>1240</td>\n",
       "      <td>4</td>\n",
       "      <td>33.52</td>\n",
       "      <td>0</td>\n",
       "      <td>0.0</td>\n",
       "      <td>4</td>\n",
       "    </tr>\n",
       "    <tr>\n",
       "      <th>4</th>\n",
       "      <td>3</td>\n",
       "      <td>1110</td>\n",
       "      <td>7</td>\n",
       "      <td>3301</td>\n",
       "      <td>15766</td>\n",
       "      <td>1242</td>\n",
       "      <td>3</td>\n",
       "      <td>22.92</td>\n",
       "      <td>0</td>\n",
       "      <td>0.0</td>\n",
       "      <td>3</td>\n",
       "    </tr>\n",
       "  </tbody>\n",
       "</table>\n",
       "</div>"
      ],
      "text/plain": [
       "   Semana  Agencia_ID  Canal_ID  Ruta_SAK  Cliente_ID  Producto_ID  \\\n",
       "0       3        1110         7      3301       15766         1212   \n",
       "1       3        1110         7      3301       15766         1216   \n",
       "2       3        1110         7      3301       15766         1238   \n",
       "3       3        1110         7      3301       15766         1240   \n",
       "4       3        1110         7      3301       15766         1242   \n",
       "\n",
       "   Venta_uni_hoy  Venta_hoy  Dev_uni_proxima  Dev_proxima  Demanda_uni_equil  \n",
       "0              3      25.14                0          0.0                  3  \n",
       "1              4      33.52                0          0.0                  4  \n",
       "2              4      39.32                0          0.0                  4  \n",
       "3              4      33.52                0          0.0                  4  \n",
       "4              3      22.92                0          0.0                  3  "
      ]
     },
     "execution_count": 32,
     "metadata": {},
     "output_type": "execute_result"
    }
   ],
   "source": [
    "clientes = pd.read_csv('data/cliente_tabla.csv') #Catálogo de clientes\n",
    "productos = pd.read_csv('data/producto_tabla.csv') #Cat de productos\n",
    "estado_ciudad = pd.read_csv('data/town_state.csv') #Carga \n",
    "train = pd.read_csv('data/train-000.csv')# Se dividió el train en segmentos de 1000000 lineas para su sampleo con la librería csvsplitter\n",
    "train.head()"
   ]
  },
  {
   "cell_type": "code",
   "execution_count": 5,
   "metadata": {
    "collapsed": false
   },
   "outputs": [
    {
     "name": "stdout",
     "output_type": "stream",
     "text": [
      "                                                NombreCliente\n",
      "Cliente_ID                                                   \n",
      "0                                                  SIN NOMBRE\n",
      "1                                            OXXO XINANTECATL\n",
      "2                                                  SIN NOMBRE\n",
      "3                                                   EL MORENO\n",
      "4           SDN SER  DE ALIM  CUERPO SA CIA  DE INTSDN SER...\n",
      "5                                                  LA VAQUITA\n",
      "6                                                      LUPITA\n",
      "7                                                I M EL GUERO\n",
      "8                                        MINI SUPER LOS LUPES\n",
      "9                                   SUPER KOMPRAS MICRO COLON\n",
      "10                                    LONJA MERCANTIL DE TODO\n",
      "11                                  FARMACIA NICOLAS SAN JUAN\n",
      "12                                           PAPELERIA CATALA\n",
      "13                                                      ELENA\n",
      "14                                                 CASA TRINO\n",
      "15                                   FMA035947 BIMBO SA DE CV\n",
      "16                                                       JOYS\n",
      "17                                                   DE MARCO\n",
      "18                                                   LUPES II\n",
      "19                                                LA TIENDITA\n",
      "20                    FMA026712 TECNOAUTOMOTRIZ ATLACOMULCO S\n",
      "21                                             ABARROTES IVAN\n",
      "22                                                    GARNICA\n",
      "23                   FMA026709 BUCIRUS BLADAS DE MEXICO SA DE\n",
      "24                   FMA026248 PROVEEDORA DEL NORTE DEL ESTAD\n",
      "25                                               LA CARROSITA\n",
      "26                           BODEGA COMERCIAL MEXICANA TOLUCA\n",
      "27                                                    MARQUEZ\n",
      "28                     FMA033097 AUTOMOTRIZ MEXICANA S A DE C\n",
      "29                                       JOSE AGUILAR CATALAN\n",
      "...                                                       ...\n",
      "9891358                                          OXXO GAXIOLA\n",
      "9891984                                         OXXO CASTILLO\n",
      "9892002                                      OXXO BUGAMBILIAS\n",
      "9892008                                        FARMACIA YZA 6\n",
      "9892020                                    SUPERDES CIHUATLAN\n",
      "9892026                                 SUPER WILLYS TZUCACAB\n",
      "9902512                                         OXXO BELLOTAS\n",
      "9902526                                     DUNOSUSA SAN JUAN\n",
      "9927190                                      OXXO PLAYA MARTE\n",
      "9943143                              ANA MARIA ZEPEDA PARTIDA\n",
      "9962735                          TIENDAS TRES B LA POLVORILLA\n",
      "9982898                             SC MACRO PLAZA INSURGENTE\n",
      "9991105                          EL PORTON LOS HEROES TECAMAC\n",
      "9999999                                       NO IDENTIFICADO\n",
      "10033178                           MEGA SAN MIGUEL DE ALLENDE\n",
      "10142492                                    OXXO FUERZA AEREA\n",
      "10142588                               mi bodega nueva italia\n",
      "10281997                                        OXXO CONGRESO\n",
      "10303963               DISTRIBUIDORA VIGIL TOSCANO S A DE C V\n",
      "10351784                                          OXXO ALAZAN\n",
      "10351790                                        OXXO ALAMO II\n",
      "10351796                                           OXXO ALAMO\n",
      "10351802                                        OXXO IDOLO II\n",
      "10351808                                 OXXO TUXPAM TAMIAHUA\n",
      "10351814                                     OXXO DE LA LLAVE\n",
      "11011586                                           OXXO PETEN\n",
      "11693264                                 SUPER ABARROTES MARY\n",
      "19988629                                      NO IDENTIFICADO\n",
      "99999999                                      NO IDENTIFICADO\n",
      "2015152015                                    NO IDENTIFICADO\n",
      "\n",
      "[930500 rows x 1 columns]\n"
     ]
    }
   ],
   "source": [
    "#len(clientes['Cliente_ID'].unique()) #Necesario quitar duplicados colocando la información concatenada del nombre\n",
    "agrupados = clientes.groupby(clientes['Cliente_ID']).sum()\n",
    "print(agrupados)"
   ]
  },
  {
   "cell_type": "code",
   "execution_count": 10,
   "metadata": {
    "collapsed": false
   },
   "outputs": [
    {
     "data": {
      "text/plain": [
       "930500"
      ]
     },
     "execution_count": 10,
     "metadata": {},
     "output_type": "execute_result"
    }
   ],
   "source": [
    "#data['NombreCliente'].value_counts()\n",
    "#len(data['Cliente_ID'].unique())"
   ]
  },
  {
   "cell_type": "code",
   "execution_count": 10,
   "metadata": {
    "collapsed": false
   },
   "outputs": [
    {
     "data": {
      "text/plain": [
       "Index(['Producto_ID', 'NombreProducto'], dtype='object')"
      ]
     },
     "execution_count": 10,
     "metadata": {},
     "output_type": "execute_result"
    }
   ],
   "source": [
    "productos.columns"
   ]
  },
  {
   "cell_type": "code",
   "execution_count": 12,
   "metadata": {
    "collapsed": false
   },
   "outputs": [
    {
     "data": {
      "text/plain": [
       "<bound method Series.count of 0           0\n",
       "1           9\n",
       "2          41\n",
       "3          53\n",
       "4          72\n",
       "5          73\n",
       "6          98\n",
       "7          99\n",
       "8         100\n",
       "9         106\n",
       "10        107\n",
       "11        108\n",
       "12        109\n",
       "13        112\n",
       "14        122\n",
       "15        123\n",
       "16        125\n",
       "17        131\n",
       "18        132\n",
       "19        134\n",
       "20        135\n",
       "21        141\n",
       "22        145\n",
       "23        151\n",
       "24        157\n",
       "25        160\n",
       "26        161\n",
       "27        162\n",
       "28        163\n",
       "29        179\n",
       "        ...  \n",
       "2562    49737\n",
       "2563    49738\n",
       "2564    49739\n",
       "2565    49740\n",
       "2566    49754\n",
       "2567    49765\n",
       "2568    49766\n",
       "2569    49769\n",
       "2570    49773\n",
       "2571    49779\n",
       "2572    49781\n",
       "2573    49782\n",
       "2574    49810\n",
       "2575    49835\n",
       "2576    49860\n",
       "2577    49892\n",
       "2578    49920\n",
       "2579    49928\n",
       "2580    49944\n",
       "2581    49972\n",
       "2582    49973\n",
       "2583    49986\n",
       "2584    49988\n",
       "2585    49989\n",
       "2586    49990\n",
       "2587    49992\n",
       "2588    49993\n",
       "2589    49994\n",
       "2590    49996\n",
       "2591    49997\n",
       "Name: Producto_ID, dtype: int64>"
      ]
     },
     "execution_count": 12,
     "metadata": {},
     "output_type": "execute_result"
    }
   ],
   "source": [
    "productos.groupby(productos['NombreProducto']) #Viendo los datos se puede considerar como productos únicos\n",
    "productos['Producto_ID'].count"
   ]
  },
  {
   "cell_type": "code",
   "execution_count": 31,
   "metadata": {
    "collapsed": false
   },
   "outputs": [
    {
     "data": {
      "text/plain": [
       "613"
      ]
     },
     "execution_count": 31,
     "metadata": {},
     "output_type": "execute_result"
    }
   ],
   "source": [
    "#train['Semana'].mean()\n",
    "len(train['Ruta_SAK'].unique())"
   ]
  }
 ],
 "metadata": {
  "kernelspec": {
   "display_name": "Python [databootcamp]",
   "language": "python",
   "name": "Python [databootcamp]"
  },
  "language_info": {
   "codemirror_mode": {
    "name": "ipython",
    "version": 3
   },
   "file_extension": ".py",
   "mimetype": "text/x-python",
   "name": "python",
   "nbconvert_exporter": "python",
   "pygments_lexer": "ipython3",
   "version": "3.5.1"
  }
 },
 "nbformat": 4,
 "nbformat_minor": 0
}
