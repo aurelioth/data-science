{
 "cells": [
  {
   "cell_type": "code",
   "execution_count": 51,
   "metadata": {
    "collapsed": false
   },
   "outputs": [],
   "source": [
    "from sklearn import linear_model, cross_validation, metrics\n",
    "from sklearn.feature_selection import VarianceThreshold\n",
    "import sklearn.ensemble as ske\n",
    "import pandas as pd\n",
    "\n",
    "%matplotlib inline\n",
    "import matplotlib.pyplot as plt\n",
    "\n",
    "#Para sacar un sample del train se utilizó la librería phraug en https://github.com/zygmuntz/phraug/blob/master/README.md\n",
    "#python sample.py C:/Users/User/data-science/data/train.csv c:/samples/train_sample1.csv 0.2\n",
    "\n",
    "train = pd.read_csv('data/train_sample4.csv') # Necesito quitar las variables que no son relevantes para el proceso  Cliente_ID,Producto_Id..etc \n",
    "#sel = VarianceThreshold(threshold=(.8 * (1 - .8)))\n",
    "#sel.fit_transform(train)"
   ]
  },
  {
   "cell_type": "code",
   "execution_count": 52,
   "metadata": {
    "collapsed": false
   },
   "outputs": [
    {
     "data": {
      "text/plain": [
       "array([3, 4, 5, 6, 7, 8, 9], dtype=int64)"
      ]
     },
     "execution_count": 52,
     "metadata": {},
     "output_type": "execute_result"
    }
   ],
   "source": [
    "train.Semana.unique() #Verificar que el sampleo contenga valores randomizados."
   ]
  },
  {
   "cell_type": "code",
   "execution_count": 53,
   "metadata": {
    "collapsed": false
   },
   "outputs": [
    {
     "data": {
      "text/plain": [
       "Semana               14835814\n",
       "Agencia_ID           14835814\n",
       "Canal_ID             14835814\n",
       "Ruta_SAK             14835814\n",
       "Cliente_ID           14835814\n",
       "Producto_ID          14835814\n",
       "Venta_uni_hoy        14835814\n",
       "Venta_hoy            14835814\n",
       "Dev_uni_proxima      14835814\n",
       "Dev_proxima          14835814\n",
       "Demanda_uni_equil    14835814\n",
       "dtype: int64"
      ]
     },
     "execution_count": 53,
     "metadata": {},
     "output_type": "execute_result"
    }
   ],
   "source": [
    "train.count() #No hay valores nulos 14841857 observaciones"
   ]
  },
  {
   "cell_type": "code",
   "execution_count": 44,
   "metadata": {
    "collapsed": false
   },
   "outputs": [
    {
     "data": {
      "text/plain": [
       "<matplotlib.axes._subplots.AxesSubplot at 0x27306748cc0>"
      ]
     },
     "execution_count": 44,
     "metadata": {},
     "output_type": "execute_result"
    },
    {
     "data": {
      "image/png": "[encoded data removed]",
      "text/plain": [
       "<matplotlib.figure.Figure at 0x27306751ef0>"
      ]
     },
     "metadata": {},
     "output_type": "display_data"
    }
   ],
   "source": [
    "#Agrupar por Cliente_Id Producto_ID\n",
    "#train = train.groupby(['Cliente_ID','Producto_ID']).mean()\n",
    "#train\n",
    "#train.Dev_proxima.hist(bins = 10)\n",
    "\n",
    "#Normalizar los datos\n",
    "\n",
    "#train['Venta_uni_hoy'] = (train['Venta_uni_hoy'] - train['Venta_uni_hoy'].min()) / (train['Venta_uni_hoy'].max() - train['Venta_uni_hoy'].min())\n",
    "#train['Venta_hoy'] = (train['Venta_hoy'] - train['Venta_hoy'].min()) / (train['Venta_hoy'].max() - train['Venta_hoy'].min())\n",
    "#train['Dev_uni_proxima'] = (train['Dev_uni_proxima'] - train['Dev_uni_proxima'].min()) / (train['Dev_uni_proxima'].max() - train['Dev_uni_proxima'].min())\n",
    "#train['Dev_proxima'] = (train['Dev_proxima'] - train['Dev_proxima'].min()) / (train['Dev_proxima'].max() - train['Dev_proxima'].min())\n",
    "\n",
    "\n",
    "#train.Venta_uni_hoy.hist(bins=100)"
   ]
  },
  {
   "cell_type": "code",
   "execution_count": 54,
   "metadata": {
    "collapsed": true
   },
   "outputs": [],
   "source": [
    "#Preprocesar los datos\n",
    "def preprocesar(df):\n",
    "    copia_df = df.copy()\n",
    "    copia_df = copia_df.drop(['Venta_uni_hoy','Venta_hoy','Dev_uni_proxima','Dev_proxima','Venta_hoy','Dev_proxima'],axis =1)\n",
    "    return copia_df"
   ]
  },
  {
   "cell_type": "code",
   "execution_count": 55,
   "metadata": {
    "collapsed": false
   },
   "outputs": [],
   "source": [
    "procesado_df = preprocesar(train)"
   ]
  },
  {
   "cell_type": "code",
   "execution_count": 56,
   "metadata": {
    "collapsed": true
   },
   "outputs": [],
   "source": [
    "X = procesado_df.drop(['Demanda_uni_equil'], axis=1).values\n",
    "y = procesado_df['Demanda_uni_equil'].values"
   ]
  },
  {
   "cell_type": "code",
   "execution_count": 57,
   "metadata": {
    "collapsed": true
   },
   "outputs": [],
   "source": [
    "X_train, X_test, y_train, y_test = cross_validation.train_test_split(X,y,test_size=0.2)"
   ]
  },
  {
   "cell_type": "code",
   "execution_count": 61,
   "metadata": {
    "collapsed": false
   },
   "outputs": [],
   "source": [
    "#Classification\n",
    "#ElasticNet para explorar y cuantificar la realacion entre una variable dependiente o de criterio (Y) y una o mas variables\n",
    "# independientes o predictoras (X1,X2,...Xn)\n",
    "alpha = 0.1\n",
    "enet = linear_model.ElasticNet(alpha=alpha, l1_ratio=0.5)\n",
    "y_pred_enet = enet.fit(X_train, y_train).predict(X_test)\n"
   ]
  },
  {
   "cell_type": "code",
   "execution_count": 62,
   "metadata": {
    "collapsed": false
   },
   "outputs": [
    {
     "name": "stdout",
     "output_type": "stream",
     "text": [
      "ElasticNet(alpha=0.1, copy_X=True, fit_intercept=True, l1_ratio=0.5,\n",
      "      max_iter=1000, normalize=False, positive=False, precompute=False,\n",
      "      random_state=None, selection='cyclic', tol=0.0001, warm_start=False)\n",
      "r^2 on test data : 0.019906\n",
      "[  1.28258116e-03  -5.04828284e-07   2.10050795e+00  -3.98933344e-04\n",
      "  -1.60307800e-07   5.71579912e-05]\n"
     ]
    },
    {
     "data": {
      "image/png": "[encoded data removed]",
      "text/plain": [
       "<matplotlib.figure.Figure at 0x2730690f4a8>"
      ]
     },
     "metadata": {},
     "output_type": "display_data"
    }
   ],
   "source": [
    "r2_score_enet = metrics.r2_score(y_test, y_pred_enet)\n",
    "print(enet)\n",
    "print(\"r^2 on test data : %f\" % r2_score_enet)\n",
    "print(enet.coef_)\n",
    "\n",
    "plt.plot(enet.coef_, label='Elastic net coefficients')\n",
    "plt.title(\"Elastic Net R^2: %f\" % r2_score_enet)\n",
    "plt.show()"
   ]
  },
  {
   "cell_type": "code",
   "execution_count": 60,
   "metadata": {
    "collapsed": false
   },
   "outputs": [
    {
     "data": {
      "text/plain": [
       "Index(['Semana', 'Agencia_ID', 'Canal_ID', 'Ruta_SAK', 'Cliente_ID',\n",
       "       'Producto_ID', 'Demanda_uni_equil'],\n",
       "      dtype='object')"
      ]
     },
     "execution_count": 60,
     "metadata": {},
     "output_type": "execute_result"
    }
   ],
   "source": [
    "#Sample 3\n",
    "#L1_ratio = 0.5\n",
    "#R^2 =0.993158\n",
    "procesado_df.columns"
   ]
  },
  {
   "cell_type": "code",
   "execution_count": null,
   "metadata": {
    "collapsed": true
   },
   "outputs": [],
   "source": []
  }
 ],
 "metadata": {
  "anaconda-cloud": {},
  "kernelspec": {
   "display_name": "Python [databootcamp]",
   "language": "python",
   "name": "Python [databootcamp]"
  },
  "language_info": {
   "codemirror_mode": {
    "name": "ipython",
    "version": 3
   },
   "file_extension": ".py",
   "mimetype": "text/x-python",
   "name": "python",
   "nbconvert_exporter": "python",
   "pygments_lexer": "ipython3",
   "version": "3.5.1"
  }
 },
 "nbformat": 4,
 "nbformat_minor": 0
}
