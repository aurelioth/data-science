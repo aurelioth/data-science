{
 "cells": [
  {
   "cell_type": "code",
   "execution_count": 1,
   "metadata": {
    "collapsed": false
   },
   "outputs": [
    {
     "data": {
      "text/html": [
       "<div>\n",
       "<table border=\"1\" class=\"dataframe\">\n",
       "  <thead>\n",
       "    <tr style=\"text-align: right;\">\n",
       "      <th></th>\n",
       "      <th>Semana</th>\n",
       "      <th>Agencia_ID</th>\n",
       "      <th>Canal_ID</th>\n",
       "      <th>Ruta_SAK</th>\n",
       "      <th>Cliente_ID</th>\n",
       "      <th>Producto_ID</th>\n",
       "      <th>Venta_uni_hoy</th>\n",
       "      <th>Venta_hoy</th>\n",
       "      <th>Dev_uni_proxima</th>\n",
       "      <th>Dev_proxima</th>\n",
       "      <th>Demanda_uni_equil</th>\n",
       "    </tr>\n",
       "  </thead>\n",
       "  <tbody>\n",
       "    <tr>\n",
       "      <th>0</th>\n",
       "      <td>3</td>\n",
       "      <td>1110</td>\n",
       "      <td>7</td>\n",
       "      <td>3301</td>\n",
       "      <td>15766</td>\n",
       "      <td>1212</td>\n",
       "      <td>3</td>\n",
       "      <td>25.14</td>\n",
       "      <td>0</td>\n",
       "      <td>0.0</td>\n",
       "      <td>3</td>\n",
       "    </tr>\n",
       "    <tr>\n",
       "      <th>1</th>\n",
       "      <td>3</td>\n",
       "      <td>1110</td>\n",
       "      <td>7</td>\n",
       "      <td>3301</td>\n",
       "      <td>15766</td>\n",
       "      <td>1250</td>\n",
       "      <td>5</td>\n",
       "      <td>38.20</td>\n",
       "      <td>0</td>\n",
       "      <td>0.0</td>\n",
       "      <td>5</td>\n",
       "    </tr>\n",
       "    <tr>\n",
       "      <th>2</th>\n",
       "      <td>3</td>\n",
       "      <td>1110</td>\n",
       "      <td>7</td>\n",
       "      <td>3301</td>\n",
       "      <td>15766</td>\n",
       "      <td>4085</td>\n",
       "      <td>4</td>\n",
       "      <td>24.60</td>\n",
       "      <td>0</td>\n",
       "      <td>0.0</td>\n",
       "      <td>4</td>\n",
       "    </tr>\n",
       "    <tr>\n",
       "      <th>3</th>\n",
       "      <td>3</td>\n",
       "      <td>1110</td>\n",
       "      <td>7</td>\n",
       "      <td>3301</td>\n",
       "      <td>15766</td>\n",
       "      <td>5310</td>\n",
       "      <td>6</td>\n",
       "      <td>31.68</td>\n",
       "      <td>0</td>\n",
       "      <td>0.0</td>\n",
       "      <td>6</td>\n",
       "    </tr>\n",
       "    <tr>\n",
       "      <th>4</th>\n",
       "      <td>3</td>\n",
       "      <td>1110</td>\n",
       "      <td>7</td>\n",
       "      <td>3301</td>\n",
       "      <td>15766</td>\n",
       "      <td>30531</td>\n",
       "      <td>8</td>\n",
       "      <td>62.24</td>\n",
       "      <td>0</td>\n",
       "      <td>0.0</td>\n",
       "      <td>8</td>\n",
       "    </tr>\n",
       "  </tbody>\n",
       "</table>\n",
       "</div>"
      ],
      "text/plain": [
       "   Semana  Agencia_ID  Canal_ID  Ruta_SAK  Cliente_ID  Producto_ID  \\\n",
       "0       3        1110         7      3301       15766         1212   \n",
       "1       3        1110         7      3301       15766         1250   \n",
       "2       3        1110         7      3301       15766         4085   \n",
       "3       3        1110         7      3301       15766         5310   \n",
       "4       3        1110         7      3301       15766        30531   \n",
       "\n",
       "   Venta_uni_hoy  Venta_hoy  Dev_uni_proxima  Dev_proxima  Demanda_uni_equil  \n",
       "0              3      25.14                0          0.0                  3  \n",
       "1              5      38.20                0          0.0                  5  \n",
       "2              4      24.60                0          0.0                  4  \n",
       "3              6      31.68                0          0.0                  6  \n",
       "4              8      62.24                0          0.0                  8  "
      ]
     },
     "execution_count": 1,
     "metadata": {},
     "output_type": "execute_result"
    }
   ],
   "source": [
    "# Importamos pandas para poder hacer la lectura del train sample\n",
    "import pandas as pd\n",
    "train = pd.read_csv('data/train_sample1.csv')# Se dividió el train en segmentos de 1000000 lineas para su sampleo\n",
    "train.head()"
   ]
  },
  {
   "cell_type": "code",
   "execution_count": 13,
   "metadata": {
    "collapsed": false
   },
   "outputs": [
    {
     "data": {
      "text/html": [
       "<div>\n",
       "<table border=\"1\" class=\"dataframe\">\n",
       "  <thead>\n",
       "    <tr style=\"text-align: right;\">\n",
       "      <th></th>\n",
       "      <th>Semana</th>\n",
       "      <th>Agencia_ID</th>\n",
       "      <th>Canal_ID</th>\n",
       "      <th>Ruta_SAK</th>\n",
       "      <th>Cliente_ID</th>\n",
       "      <th>Producto_ID</th>\n",
       "      <th>Venta_uni_hoy</th>\n",
       "      <th>Venta_hoy</th>\n",
       "      <th>Dev_uni_proxima</th>\n",
       "      <th>Dev_proxima</th>\n",
       "      <th>Demanda_uni_equil</th>\n",
       "    </tr>\n",
       "  </thead>\n",
       "  <tbody>\n",
       "    <tr>\n",
       "      <th>count</th>\n",
       "      <td>6.194184e+06</td>\n",
       "      <td>6.194184e+06</td>\n",
       "      <td>6.194184e+06</td>\n",
       "      <td>6.194184e+06</td>\n",
       "      <td>6.194184e+06</td>\n",
       "      <td>6.194184e+06</td>\n",
       "      <td>6.194184e+06</td>\n",
       "      <td>6.194184e+06</td>\n",
       "      <td>6.194184e+06</td>\n",
       "      <td>6.194184e+06</td>\n",
       "      <td>6.194184e+06</td>\n",
       "    </tr>\n",
       "    <tr>\n",
       "      <th>mean</th>\n",
       "      <td>3.098958e+00</td>\n",
       "      <td>2.333886e+03</td>\n",
       "      <td>1.338935e+00</td>\n",
       "      <td>2.072683e+03</td>\n",
       "      <td>1.750503e+06</td>\n",
       "      <td>1.985083e+04</td>\n",
       "      <td>7.015421e+00</td>\n",
       "      <td>6.717975e+01</td>\n",
       "      <td>1.145097e-01</td>\n",
       "      <td>1.141511e+00</td>\n",
       "      <td>6.939581e+00</td>\n",
       "    </tr>\n",
       "    <tr>\n",
       "      <th>std</th>\n",
       "      <td>2.986052e-01</td>\n",
       "      <td>3.756384e+03</td>\n",
       "      <td>1.373746e+00</td>\n",
       "      <td>1.433613e+03</td>\n",
       "      <td>2.557415e+06</td>\n",
       "      <td>1.846482e+04</td>\n",
       "      <td>2.124232e+01</td>\n",
       "      <td>3.193358e+02</td>\n",
       "      <td>7.240603e+00</td>\n",
       "      <td>5.963459e+01</td>\n",
       "      <td>2.100261e+01</td>\n",
       "    </tr>\n",
       "    <tr>\n",
       "      <th>min</th>\n",
       "      <td>3.000000e+00</td>\n",
       "      <td>1.110000e+03</td>\n",
       "      <td>1.000000e+00</td>\n",
       "      <td>1.000000e+00</td>\n",
       "      <td>2.600000e+01</td>\n",
       "      <td>4.100000e+01</td>\n",
       "      <td>0.000000e+00</td>\n",
       "      <td>0.000000e+00</td>\n",
       "      <td>0.000000e+00</td>\n",
       "      <td>0.000000e+00</td>\n",
       "      <td>0.000000e+00</td>\n",
       "    </tr>\n",
       "    <tr>\n",
       "      <th>25%</th>\n",
       "      <td>3.000000e+00</td>\n",
       "      <td>1.220000e+03</td>\n",
       "      <td>1.000000e+00</td>\n",
       "      <td>1.175000e+03</td>\n",
       "      <td>3.510630e+05</td>\n",
       "      <td>1.240000e+03</td>\n",
       "      <td>2.000000e+00</td>\n",
       "      <td>1.676000e+01</td>\n",
       "      <td>0.000000e+00</td>\n",
       "      <td>0.000000e+00</td>\n",
       "      <td>2.000000e+00</td>\n",
       "    </tr>\n",
       "    <tr>\n",
       "      <th>50%</th>\n",
       "      <td>3.000000e+00</td>\n",
       "      <td>1.477000e+03</td>\n",
       "      <td>1.000000e+00</td>\n",
       "      <td>1.411000e+03</td>\n",
       "      <td>1.144099e+06</td>\n",
       "      <td>3.017300e+04</td>\n",
       "      <td>3.000000e+00</td>\n",
       "      <td>3.002000e+01</td>\n",
       "      <td>0.000000e+00</td>\n",
       "      <td>0.000000e+00</td>\n",
       "      <td>3.000000e+00</td>\n",
       "    </tr>\n",
       "    <tr>\n",
       "      <th>75%</th>\n",
       "      <td>3.000000e+00</td>\n",
       "      <td>2.021000e+03</td>\n",
       "      <td>1.000000e+00</td>\n",
       "      <td>2.166000e+03</td>\n",
       "      <td>2.325974e+06</td>\n",
       "      <td>3.674800e+04</td>\n",
       "      <td>6.000000e+00</td>\n",
       "      <td>5.658000e+01</td>\n",
       "      <td>0.000000e+00</td>\n",
       "      <td>0.000000e+00</td>\n",
       "      <td>6.000000e+00</td>\n",
       "    </tr>\n",
       "    <tr>\n",
       "      <th>max</th>\n",
       "      <td>4.000000e+00</td>\n",
       "      <td>2.575900e+04</td>\n",
       "      <td>1.100000e+01</td>\n",
       "      <td>9.947000e+03</td>\n",
       "      <td>2.015152e+09</td>\n",
       "      <td>4.999700e+04</td>\n",
       "      <td>4.800000e+03</td>\n",
       "      <td>3.038515e+05</td>\n",
       "      <td>1.634500e+04</td>\n",
       "      <td>1.307600e+05</td>\n",
       "      <td>4.800000e+03</td>\n",
       "    </tr>\n",
       "  </tbody>\n",
       "</table>\n",
       "</div>"
      ],
      "text/plain": [
       "             Semana    Agencia_ID      Canal_ID      Ruta_SAK    Cliente_ID  \\\n",
       "count  6.194184e+06  6.194184e+06  6.194184e+06  6.194184e+06  6.194184e+06   \n",
       "mean   3.098958e+00  2.333886e+03  1.338935e+00  2.072683e+03  1.750503e+06   \n",
       "std    2.986052e-01  3.756384e+03  1.373746e+00  1.433613e+03  2.557415e+06   \n",
       "min    3.000000e+00  1.110000e+03  1.000000e+00  1.000000e+00  2.600000e+01   \n",
       "25%    3.000000e+00  1.220000e+03  1.000000e+00  1.175000e+03  3.510630e+05   \n",
       "50%    3.000000e+00  1.477000e+03  1.000000e+00  1.411000e+03  1.144099e+06   \n",
       "75%    3.000000e+00  2.021000e+03  1.000000e+00  2.166000e+03  2.325974e+06   \n",
       "max    4.000000e+00  2.575900e+04  1.100000e+01  9.947000e+03  2.015152e+09   \n",
       "\n",
       "        Producto_ID  Venta_uni_hoy     Venta_hoy  Dev_uni_proxima  \\\n",
       "count  6.194184e+06   6.194184e+06  6.194184e+06     6.194184e+06   \n",
       "mean   1.985083e+04   7.015421e+00  6.717975e+01     1.145097e-01   \n",
       "std    1.846482e+04   2.124232e+01  3.193358e+02     7.240603e+00   \n",
       "min    4.100000e+01   0.000000e+00  0.000000e+00     0.000000e+00   \n",
       "25%    1.240000e+03   2.000000e+00  1.676000e+01     0.000000e+00   \n",
       "50%    3.017300e+04   3.000000e+00  3.002000e+01     0.000000e+00   \n",
       "75%    3.674800e+04   6.000000e+00  5.658000e+01     0.000000e+00   \n",
       "max    4.999700e+04   4.800000e+03  3.038515e+05     1.634500e+04   \n",
       "\n",
       "        Dev_proxima  Demanda_uni_equil  \n",
       "count  6.194184e+06       6.194184e+06  \n",
       "mean   1.141511e+00       6.939581e+00  \n",
       "std    5.963459e+01       2.100261e+01  \n",
       "min    0.000000e+00       0.000000e+00  \n",
       "25%    0.000000e+00       2.000000e+00  \n",
       "50%    0.000000e+00       3.000000e+00  \n",
       "75%    0.000000e+00       6.000000e+00  \n",
       "max    1.307600e+05       4.800000e+03  "
      ]
     },
     "execution_count": 13,
     "metadata": {},
     "output_type": "execute_result"
    }
   ],
   "source": [
    "train.describe()"
   ]
  },
  {
   "cell_type": "code",
   "execution_count": 22,
   "metadata": {
    "collapsed": false
   },
   "outputs": [],
   "source": [
    "venta_uni  = train[\"Venta_uni_hoy\"]\n",
    "venta_hoy  = train[\"Venta_hoy\"]\n",
    "dev_uni  = train[\"Dev_uni_proxima\"]\n",
    "dev_proxima  = train[\"Dev_proxima\"]\n",
    "demanda  = train[\"Demanda_uni_equil\"]\n",
    "\n",
    "#train['Demanda_uni_equil'].mean()\n"
   ]
  },
  {
   "cell_type": "code",
   "execution_count": 28,
   "metadata": {
    "collapsed": false
   },
   "outputs": [
    {
     "data": {
      "text/plain": [
       "<matplotlib.text.Text at 0x18b82b256d8>"
      ]
     },
     "execution_count": 28,
     "metadata": {},
     "output_type": "execute_result"
    },
    {
     "data": {
      "image/png": "[encoded data removed]",
      "text/plain": [
       "<matplotlib.figure.Figure at 0x18b821f5400>"
      ]
     },
     "metadata": {},
     "output_type": "display_data"
    }
   ],
   "source": [
    "# Importamos matplotlib.pyplot como \"plt\" por convención\n",
    "%matplotlib inline\n",
    "import matplotlib.pyplot as plt\n",
    "\n",
    "venta_uni.hist( bins=100)\n",
    "plt.xlabel('venta_uni', fontsize=18)\n",
    "plt.ylabel('Frecuencia', fontsize=16)"
   ]
  },
  {
   "cell_type": "code",
   "execution_count": 29,
   "metadata": {
    "collapsed": false
   },
   "outputs": [
    {
     "data": {
      "text/plain": [
       "<matplotlib.text.Text at 0x18b82de1eb8>"
      ]
     },
     "execution_count": 29,
     "metadata": {},
     "output_type": "execute_result"
    },
    {
     "data": {
      "image/png": "[encoded data removed]",
      "text/plain": [
       "<matplotlib.figure.Figure at 0x18b829b7f98>"
      ]
     },
     "metadata": {},
     "output_type": "display_data"
    }
   ],
   "source": [
    "venta_hoy.hist( bins=200)\n",
    "plt.xlabel('venta', fontsize=18)\n",
    "plt.ylabel('Frecuencia', fontsize=16)"
   ]
  },
  {
   "cell_type": "code",
   "execution_count": 30,
   "metadata": {
    "collapsed": false
   },
   "outputs": [
    {
     "data": {
      "text/plain": [
       "<matplotlib.text.Text at 0x18b82fe2860>"
      ]
     },
     "execution_count": 30,
     "metadata": {},
     "output_type": "execute_result"
    },
    {
     "data": {
      "image/png": "[encoded data removed]",
      "text/plain": [
       "<matplotlib.figure.Figure at 0x18b82905748>"
      ]
     },
     "metadata": {},
     "output_type": "display_data"
    }
   ],
   "source": [
    "dev_uni.hist( bins=200)\n",
    "plt.xlabel('Devolucion unitaria', fontsize=18)\n",
    "plt.ylabel('Frecuencia', fontsize=16)"
   ]
  },
  {
   "cell_type": "code",
   "execution_count": 31,
   "metadata": {
    "collapsed": false
   },
   "outputs": [
    {
     "data": {
      "text/plain": [
       "<matplotlib.text.Text at 0x18b82ee9320>"
      ]
     },
     "execution_count": 31,
     "metadata": {},
     "output_type": "execute_result"
    },
    {
     "data": {
      "image/png": "[encoded data removed]",
      "text/plain": [
       "<matplotlib.figure.Figure at 0x18b831a49e8>"
      ]
     },
     "metadata": {},
     "output_type": "display_data"
    }
   ],
   "source": [
    "demanda.hist( bins=200)\n",
    "plt.xlabel('Demanda', fontsize=18)\n",
    "plt.ylabel('Frecuencia', fontsize=16)"
   ]
  }
 ],
 "metadata": {
  "anaconda-cloud": {},
  "kernelspec": {
   "display_name": "Python [databootcamp]",
   "language": "python",
   "name": "Python [databootcamp]"
  },
  "language_info": {
   "codemirror_mode": {
    "name": "ipython",
    "version": 3
   },
   "file_extension": ".py",
   "mimetype": "text/x-python",
   "name": "python",
   "nbconvert_exporter": "python",
   "pygments_lexer": "ipython3",
   "version": "3.5.1"
  }
 },
 "nbformat": 4,
 "nbformat_minor": 0
}
